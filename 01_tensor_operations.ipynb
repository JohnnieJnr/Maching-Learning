{
  "nbformat": 4,
  "nbformat_minor": 0,
  "metadata": {
    "kernelspec": {
      "display_name": "Python 3",
      "language": "python",
      "name": "python3"
    },
    "language_info": {
      "codemirror_mode": {
        "name": "ipython",
        "version": 3
      },
      "file_extension": ".py",
      "mimetype": "text/x-python",
      "name": "python",
      "nbconvert_exporter": "python",
      "pygments_lexer": "ipython3",
      "version": "3.8.5"
    },
    "colab": {
      "name": "01-tensor-operations.ipynb",
      "provenance": [],
      "collapsed_sections": [],
      "include_colab_link": true
    }
  },
  "cells": [
    {
      "cell_type": "markdown",
      "metadata": {
        "id": "view-in-github",
        "colab_type": "text"
      },
      "source": [
        "<a href=\"https://colab.research.google.com/github/JohnnieJnr/Maching-Learning/blob/main/01_tensor_operations.ipynb\" target=\"_parent\"><img src=\"https://colab.research.google.com/assets/colab-badge.svg\" alt=\"Open In Colab\"/></a>"
      ]
    },
    {
      "cell_type": "code",
      "metadata": {
        "id": "dLd_gD83aK_L"
      },
      "source": [
        "# Jovian Commit Essentials\n",
        "# Please retain and execute this cell without modifying the contents for `jovian.commit` to work\n",
        "!pip install jovian --upgrade -q\n",
        "import jovian\n",
        "jovian.utils.colab.set_colab_file_id('1P9PFwI_A5oafT69fLCK7EqkeqSKkC4nx')"
      ],
      "execution_count": 16,
      "outputs": []
    },
    {
      "cell_type": "markdown",
      "metadata": {
        "id": "ETiTKUFzaLAI"
      },
      "source": [
        "# 5 Simple Torch Operations\n",
        "\n",
        "The torch package contains data structures for multi-dimensional tensors and mathematical operations over these are defined. Additionally, it provides many utilities for efficient serializing of Tensors and arbitrary types, and other useful utilities.\n",
        "\n",
        "- function 1 torch.full\n",
        "- function 2 torch.rsqrt\n",
        "- function 3 torch.max\n",
        "- function 4 torch.neg\n",
        "- function 5 torch.log10\n",
        "\n",
        "Before we begin, let's install and import PyTorch"
      ]
    },
    {
      "cell_type": "code",
      "metadata": {
        "id": "Od3sGfgKaLAJ"
      },
      "source": [
        "# Uncomment and run the appropriate command for your operating system, if required\n",
        "\n",
        "# Linux / Binder\n",
        "# !pip install numpy torch==1.7.0+cpu torchvision==0.8.1+cpu torchaudio==0.7.0 -f https://download.pytorch.org/whl/torch_stable.html\n",
        "\n",
        "# Windows\n",
        "# !pip install numpy torch==1.7.0+cpu torchvision==0.8.1+cpu torchaudio==0.7.0 -f https://download.pytorch.org/whl/torch_stable.html\n",
        "\n",
        "# MacOS\n",
        "# !pip install numpy torch torchvision torchaudio"
      ],
      "execution_count": 17,
      "outputs": []
    },
    {
      "cell_type": "code",
      "metadata": {
        "id": "5fTct-QjaLAK"
      },
      "source": [
        "# Import torch and other required modules\n",
        "import torch"
      ],
      "execution_count": 18,
      "outputs": []
    },
    {
      "cell_type": "markdown",
      "metadata": {
        "id": "sOes3yGmaLAL"
      },
      "source": [
        "## Function 1 - torch.full\n",
        "\n",
        "Concatenete the given tensors with compatible shapes to produce the desired output"
      ]
    },
    {
      "cell_type": "code",
      "metadata": {
        "id": "QXxGijPoaLAQ",
        "colab": {
          "base_uri": "https://localhost:8080/"
        },
        "outputId": "95f87313-5326-479e-b15f-71de77fbdb78"
      },
      "source": [
        "t1 = torch.full((4,4), 12)\n",
        "t1"
      ],
      "execution_count": 19,
      "outputs": [
        {
          "output_type": "execute_result",
          "data": {
            "text/plain": [
              "tensor([[12, 12, 12, 12],\n",
              "        [12, 12, 12, 12],\n",
              "        [12, 12, 12, 12],\n",
              "        [12, 12, 12, 12]])"
            ]
          },
          "metadata": {
            "tags": []
          },
          "execution_count": 19
        }
      ]
    },
    {
      "cell_type": "markdown",
      "metadata": {
        "id": "nyySVmrlaLAq"
      },
      "source": [
        "The above example shows a tensor with a 4 colums and 4 rows witha a fixed value of 12"
      ]
    },
    {
      "cell_type": "code",
      "metadata": {
        "id": "zWQV9tsCaLAr",
        "colab": {
          "base_uri": "https://localhost:8080/"
        },
        "outputId": "7eaefcd7-9ad2-4d68-dcc3-9ca4bb037a76"
      },
      "source": [
        "t2 = torch.full((4,4), 4)\n",
        "t2\n",
        "\n",
        "t3 = torch.cat((t1, t2))\n",
        "t3"
      ],
      "execution_count": 20,
      "outputs": [
        {
          "output_type": "execute_result",
          "data": {
            "text/plain": [
              "tensor([[12, 12, 12, 12],\n",
              "        [12, 12, 12, 12],\n",
              "        [12, 12, 12, 12],\n",
              "        [12, 12, 12, 12],\n",
              "        [ 4,  4,  4,  4],\n",
              "        [ 4,  4,  4,  4],\n",
              "        [ 4,  4,  4,  4],\n",
              "        [ 4,  4,  4,  4]])"
            ]
          },
          "metadata": {
            "tags": []
          },
          "execution_count": 20
        }
      ]
    },
    {
      "cell_type": "markdown",
      "metadata": {
        "id": "Jc0DW3g-aLAs"
      },
      "source": [
        "concatenation of two compatible tensors to create a single tensor"
      ]
    },
    {
      "cell_type": "code",
      "metadata": {
        "id": "ZrtV2UrlaLAu",
        "colab": {
          "base_uri": "https://localhost:8080/",
          "height": 197
        },
        "outputId": "fb55ae64-2b2e-4676-f71d-578d9d16d6fd"
      },
      "source": [
        "t4 = torch.full((3,2), 2.)\n",
        "t4\n",
        "\n",
        "torch.cat((t2, t4))"
      ],
      "execution_count": 21,
      "outputs": [
        {
          "output_type": "error",
          "ename": "RuntimeError",
          "evalue": "ignored",
          "traceback": [
            "\u001b[0;31m---------------------------------------------------------------------------\u001b[0m",
            "\u001b[0;31mRuntimeError\u001b[0m                              Traceback (most recent call last)",
            "\u001b[0;32m<ipython-input-21-7698d7edfdb5>\u001b[0m in \u001b[0;36m<module>\u001b[0;34m()\u001b[0m\n\u001b[1;32m      2\u001b[0m \u001b[0mt4\u001b[0m\u001b[0;34m\u001b[0m\u001b[0;34m\u001b[0m\u001b[0m\n\u001b[1;32m      3\u001b[0m \u001b[0;34m\u001b[0m\u001b[0m\n\u001b[0;32m----> 4\u001b[0;31m \u001b[0mtorch\u001b[0m\u001b[0;34m.\u001b[0m\u001b[0mcat\u001b[0m\u001b[0;34m(\u001b[0m\u001b[0;34m(\u001b[0m\u001b[0mt2\u001b[0m\u001b[0;34m,\u001b[0m \u001b[0mt4\u001b[0m\u001b[0;34m)\u001b[0m\u001b[0;34m)\u001b[0m\u001b[0;34m\u001b[0m\u001b[0;34m\u001b[0m\u001b[0m\n\u001b[0m",
            "\u001b[0;31mRuntimeError\u001b[0m: Sizes of tensors must match except in dimension 0. Got 4 and 2 in dimension 1 (The offending index is 1)"
          ]
        }
      ]
    },
    {
      "cell_type": "markdown",
      "metadata": {
        "id": "tdRnLZIdaLAw"
      },
      "source": [
        "The code displayed an error because the both tensors have different sizes ie. t2 has a size of 4 dimensions and t4 has a size of 2 dimension, hence they are incompatible.\n"
      ]
    },
    {
      "cell_type": "markdown",
      "metadata": {
        "id": "LezH598gaLAy"
      },
      "source": [
        "To use thhis function, both tensors must have the same dimensions in order for the function to work."
      ]
    },
    {
      "cell_type": "markdown",
      "metadata": {
        "id": "DRnrtsV_aLAz"
      },
      "source": [
        "Let's save our work using Jovian before continuing."
      ]
    },
    {
      "cell_type": "code",
      "metadata": {
        "id": "SHJYgbxRaLA0"
      },
      "source": [
        "!pip install jovian --upgrade --quiet"
      ],
      "execution_count": 34,
      "outputs": []
    },
    {
      "cell_type": "code",
      "metadata": {
        "id": "gzWg5-11aLA0"
      },
      "source": [
        "import jovian"
      ],
      "execution_count": 35,
      "outputs": []
    },
    {
      "cell_type": "code",
      "metadata": {
        "id": "ArJ4leomaLA1",
        "colab": {
          "base_uri": "https://localhost:8080/"
        },
        "outputId": "1af974f0-e9ba-46c0-efa7-977ccf43c9c6"
      },
      "source": [
        "jovian.commit(project='pytorch-tensor')"
      ],
      "execution_count": null,
      "outputs": [
        {
          "output_type": "stream",
          "text": [
            "[jovian] Detected Colab notebook...\u001b[0m\n",
            "[jovian] Please enter your API key ( from https://jovian.ai/ ):\u001b[0m\n",
            "API KEY: "
          ],
          "name": "stdout"
        }
      ]
    },
    {
      "cell_type": "markdown",
      "metadata": {
        "id": "l4Fhkx6AaLA4"
      },
      "source": [
        "## Function 2 - torch.rsqrt\n",
        "\n",
        "Returns a new tensor with the reciprocal of the square-root of each of the elements of input."
      ]
    },
    {
      "cell_type": "code",
      "metadata": {
        "id": "tYmZQuBRaLA4",
        "colab": {
          "base_uri": "https://localhost:8080/"
        },
        "outputId": "4681b343-fd22-4b28-c286-f7b6eaa7bac0"
      },
      "source": [
        "torch.rsqrt(torch.tensor([6., 12, 4]))"
      ],
      "execution_count": 22,
      "outputs": [
        {
          "output_type": "execute_result",
          "data": {
            "text/plain": [
              "tensor([0.4082, 0.2887, 0.5000])"
            ]
          },
          "metadata": {
            "tags": []
          },
          "execution_count": 22
        }
      ]
    },
    {
      "cell_type": "markdown",
      "metadata": {
        "id": "fiL-ff0laLA5"
      },
      "source": [
        "Explanation about example"
      ]
    },
    {
      "cell_type": "code",
      "metadata": {
        "id": "Y08VvEzOaLA6",
        "colab": {
          "base_uri": "https://localhost:8080/"
        },
        "outputId": "f39965f0-93f9-4125-ba50-e19e816ba622"
      },
      "source": [
        "torch.rsqrt(torch.tensor([12., 2+4, 2*9]))"
      ],
      "execution_count": 23,
      "outputs": [
        {
          "output_type": "execute_result",
          "data": {
            "text/plain": [
              "tensor([0.2887, 0.4082, 0.2357])"
            ]
          },
          "metadata": {
            "tags": []
          },
          "execution_count": 23
        }
      ]
    },
    {
      "cell_type": "markdown",
      "metadata": {
        "id": "O1W72VXpaLA6"
      },
      "source": [
        "rsqrt function with some arithemtic calculation"
      ]
    },
    {
      "cell_type": "code",
      "metadata": {
        "id": "KCvfPnH_aLA7",
        "colab": {
          "base_uri": "https://localhost:8080/",
          "height": 163
        },
        "outputId": "9146e0c7-eda7-4f16-d933-420839561df2"
      },
      "source": [
        "torch.rsqrt(torch.tensor([2, 4, 34]))"
      ],
      "execution_count": 24,
      "outputs": [
        {
          "output_type": "error",
          "ename": "RuntimeError",
          "evalue": "ignored",
          "traceback": [
            "\u001b[0;31m---------------------------------------------------------------------------\u001b[0m",
            "\u001b[0;31mRuntimeError\u001b[0m                              Traceback (most recent call last)",
            "\u001b[0;32m<ipython-input-24-65ca1bbf736e>\u001b[0m in \u001b[0;36m<module>\u001b[0;34m()\u001b[0m\n\u001b[0;32m----> 1\u001b[0;31m \u001b[0mtorch\u001b[0m\u001b[0;34m.\u001b[0m\u001b[0mrsqrt\u001b[0m\u001b[0;34m(\u001b[0m\u001b[0mtorch\u001b[0m\u001b[0;34m.\u001b[0m\u001b[0mtensor\u001b[0m\u001b[0;34m(\u001b[0m\u001b[0;34m[\u001b[0m\u001b[0;36m2\u001b[0m\u001b[0;34m,\u001b[0m \u001b[0;36m4\u001b[0m\u001b[0;34m,\u001b[0m \u001b[0;36m34\u001b[0m\u001b[0;34m]\u001b[0m\u001b[0;34m)\u001b[0m\u001b[0;34m)\u001b[0m\u001b[0;34m\u001b[0m\u001b[0;34m\u001b[0m\u001b[0m\n\u001b[0m",
            "\u001b[0;31mRuntimeError\u001b[0m: \"rsqrt_cpu\" not implemented for 'Long'"
          ]
        }
      ]
    },
    {
      "cell_type": "markdown",
      "metadata": {
        "id": "KmlZVIH_aLA7"
      },
      "source": [
        "The above code displays a runtime error because the tensor.rsqrt function does not work with long dtype."
      ]
    },
    {
      "cell_type": "markdown",
      "metadata": {
        "id": "_2yvXUOlaLA8"
      },
      "source": [
        "Closing comments about when to use this function"
      ]
    },
    {
      "cell_type": "code",
      "metadata": {
        "id": "UTKUupEMaLA8"
      },
      "source": [
        "jovian.commit(project='01-tensor-operations')"
      ],
      "execution_count": null,
      "outputs": []
    },
    {
      "cell_type": "markdown",
      "metadata": {
        "id": "GVerz3rjaLA9"
      },
      "source": [
        "## Function 3 - torch.max\n",
        "\n",
        "Returns the maximum value of all elements in the input tensor."
      ]
    },
    {
      "cell_type": "code",
      "metadata": {
        "id": "FD4Df7HUaLA_",
        "colab": {
          "base_uri": "https://localhost:8080/"
        },
        "outputId": "05737c99-cd06-457d-d250-25f240e132fe"
      },
      "source": [
        "# Example 1 - working\n",
        "torch.max(torch.tensor([2., 1, 13, 65, 132, 0, 24]))"
      ],
      "execution_count": 25,
      "outputs": [
        {
          "output_type": "execute_result",
          "data": {
            "text/plain": [
              "tensor(132.)"
            ]
          },
          "metadata": {
            "tags": []
          },
          "execution_count": 25
        }
      ]
    },
    {
      "cell_type": "markdown",
      "metadata": {
        "id": "1dp8TKFAaLBA"
      },
      "source": [
        "The above function searches the list and prints the maximum value"
      ]
    },
    {
      "cell_type": "code",
      "metadata": {
        "id": "hE1dW4RFaLBB",
        "colab": {
          "base_uri": "https://localhost:8080/"
        },
        "outputId": "b5b46841-7726-4437-b1ba-d3db22acd8e1"
      },
      "source": [
        "# Example 2 - working\n",
        "torch.max(torch.tensor([2.*9, 7+12, 34/5]))"
      ],
      "execution_count": 26,
      "outputs": [
        {
          "output_type": "execute_result",
          "data": {
            "text/plain": [
              "tensor(19.)"
            ]
          },
          "metadata": {
            "tags": []
          },
          "execution_count": 26
        }
      ]
    },
    {
      "cell_type": "markdown",
      "metadata": {
        "id": "APHQn3UYaLBB"
      },
      "source": [
        "torch.max performing simple arithmetic operation to determine the max vallue and print it out"
      ]
    },
    {
      "cell_type": "code",
      "metadata": {
        "id": "byHf6Pk2aLBC",
        "colab": {
          "base_uri": "https://localhost:8080/",
          "height": 180
        },
        "outputId": "e39809b2-7481-4ed7-86fb-df6d24a97771"
      },
      "source": [
        "# Example 3 - breaking (to illustrate when it breaks)\n",
        "torch.max(torch.tensor(-2, -12, -5))"
      ],
      "execution_count": 27,
      "outputs": [
        {
          "output_type": "error",
          "ename": "TypeError",
          "evalue": "ignored",
          "traceback": [
            "\u001b[0;31m---------------------------------------------------------------------------\u001b[0m",
            "\u001b[0;31mTypeError\u001b[0m                                 Traceback (most recent call last)",
            "\u001b[0;32m<ipython-input-27-099a5ff8d14e>\u001b[0m in \u001b[0;36m<module>\u001b[0;34m()\u001b[0m\n\u001b[1;32m      1\u001b[0m \u001b[0;31m# Example 3 - breaking (to illustrate when it breaks)\u001b[0m\u001b[0;34m\u001b[0m\u001b[0;34m\u001b[0m\u001b[0;34m\u001b[0m\u001b[0m\n\u001b[0;32m----> 2\u001b[0;31m \u001b[0mtorch\u001b[0m\u001b[0;34m.\u001b[0m\u001b[0mmax\u001b[0m\u001b[0;34m(\u001b[0m\u001b[0mtorch\u001b[0m\u001b[0;34m.\u001b[0m\u001b[0mtensor\u001b[0m\u001b[0;34m(\u001b[0m\u001b[0;34m-\u001b[0m\u001b[0;36m2\u001b[0m\u001b[0;34m,\u001b[0m \u001b[0;34m-\u001b[0m\u001b[0;36m12\u001b[0m\u001b[0;34m,\u001b[0m \u001b[0;34m-\u001b[0m\u001b[0;36m5\u001b[0m\u001b[0;34m)\u001b[0m\u001b[0;34m)\u001b[0m\u001b[0;34m\u001b[0m\u001b[0;34m\u001b[0m\u001b[0m\n\u001b[0m",
            "\u001b[0;31mTypeError\u001b[0m: tensor() takes 1 positional argument but 3 were given"
          ]
        }
      ]
    },
    {
      "cell_type": "markdown",
      "metadata": {
        "id": "SYCMMAgkaLBC"
      },
      "source": [
        "An error occured here because the arguments were not placen in a square braces [ ]."
      ]
    },
    {
      "cell_type": "markdown",
      "metadata": {
        "id": "VfiYDoWgaLBC"
      },
      "source": [
        "Closing comments about when to use this function"
      ]
    },
    {
      "cell_type": "code",
      "metadata": {
        "id": "gk6Ni0XwaLBD"
      },
      "source": [
        "jovian.commit(project='01-tensor-operations')"
      ],
      "execution_count": null,
      "outputs": []
    },
    {
      "cell_type": "markdown",
      "metadata": {
        "id": "WreypXqfaLBE"
      },
      "source": [
        "## Function 4 - torch.neg\n",
        "\n",
        "Returns a new tensor with the negative of the elements of input."
      ]
    },
    {
      "cell_type": "code",
      "metadata": {
        "id": "KppmL2JXaLBE",
        "colab": {
          "base_uri": "https://localhost:8080/"
        },
        "outputId": "101783be-661c-4ed2-d424-0ab28b7b8c66"
      },
      "source": [
        "# Example 1 - working\n",
        "torch.neg(torch.tensor([10, 12, 33]))"
      ],
      "execution_count": 28,
      "outputs": [
        {
          "output_type": "execute_result",
          "data": {
            "text/plain": [
              "tensor([-10, -12, -33])"
            ]
          },
          "metadata": {
            "tags": []
          },
          "execution_count": 28
        }
      ]
    },
    {
      "cell_type": "markdown",
      "metadata": {
        "id": "s4E5BlfRaLBE"
      },
      "source": [
        "As expected the torch.neg functions prints out the negative value of the inputs"
      ]
    },
    {
      "cell_type": "code",
      "metadata": {
        "id": "tvl15wCVaLBF",
        "colab": {
          "base_uri": "https://localhost:8080/"
        },
        "outputId": "b810973c-786e-48c2-c447-f6cb2689d52f"
      },
      "source": [
        "# Example 2 - working\n",
        "torch.neg(torch.tensor([-12./4, 12*7, 7+-7]))"
      ],
      "execution_count": 29,
      "outputs": [
        {
          "output_type": "execute_result",
          "data": {
            "text/plain": [
              "tensor([  3., -84.,  -0.])"
            ]
          },
          "metadata": {
            "tags": []
          },
          "execution_count": 29
        }
      ]
    },
    {
      "cell_type": "markdown",
      "metadata": {
        "id": "3luVPRu8aLBG"
      },
      "source": [
        "torch.neg performing arithmetic calculation. "
      ]
    },
    {
      "cell_type": "code",
      "metadata": {
        "id": "mXwTFZPOaLBG",
        "colab": {
          "base_uri": "https://localhost:8080/",
          "height": 129
        },
        "outputId": "eaba379d-1e94-4093-ebeb-9ab32af54e45"
      },
      "source": [
        "# Example 3 - breaking (to illustrate when it breaks)\n",
        "torch.neg(torch.tensor([2., *, 12/4, -0]))"
      ],
      "execution_count": 30,
      "outputs": [
        {
          "output_type": "error",
          "ename": "SyntaxError",
          "evalue": "ignored",
          "traceback": [
            "\u001b[0;36m  File \u001b[0;32m\"<ipython-input-30-e762349fb4b5>\"\u001b[0;36m, line \u001b[0;32m2\u001b[0m\n\u001b[0;31m    torch.neg(torch.tensor([2., *, 12/4, -0]))\u001b[0m\n\u001b[0m                                 ^\u001b[0m\n\u001b[0;31mSyntaxError\u001b[0m\u001b[0;31m:\u001b[0m invalid syntax\n"
          ]
        }
      ]
    },
    {
      "cell_type": "markdown",
      "metadata": {
        "id": "uQuEG90VaLBQ"
      },
      "source": [
        "This error occured because the next value after 2. which * is actually an arithmetic sign and cannot be a value"
      ]
    },
    {
      "cell_type": "markdown",
      "metadata": {
        "id": "YQxJBFOiaLBR"
      },
      "source": [
        "The function torch.neg is used to convert values to their negative"
      ]
    },
    {
      "cell_type": "code",
      "metadata": {
        "id": "gJVQ7L6taLBR"
      },
      "source": [
        "jovian.commit(project='01-tensor-operations')"
      ],
      "execution_count": null,
      "outputs": []
    },
    {
      "cell_type": "markdown",
      "metadata": {
        "id": "a0NzobzoaLBT"
      },
      "source": [
        "## Function 5 - torch.log10\n",
        "\n",
        "Returns a new tensor with the logarithm to the base 10 of the elements of input."
      ]
    },
    {
      "cell_type": "code",
      "metadata": {
        "id": "Y2ZP2-5yaLBU",
        "colab": {
          "base_uri": "https://localhost:8080/"
        },
        "outputId": "5091c39d-c9ec-4578-92b8-58c308994f2b"
      },
      "source": [
        "# Example 1 - working\n",
        "torch.log10(torch.tensor([25., 2.]))"
      ],
      "execution_count": 31,
      "outputs": [
        {
          "output_type": "execute_result",
          "data": {
            "text/plain": [
              "tensor([1.3979, 0.3010])"
            ]
          },
          "metadata": {
            "tags": []
          },
          "execution_count": 31
        }
      ]
    },
    {
      "cell_type": "markdown",
      "metadata": {
        "id": "OsHBxZRTaLBU"
      },
      "source": [
        "A simple sensor that prints the log10 value of all inputs"
      ]
    },
    {
      "cell_type": "code",
      "metadata": {
        "id": "ikrlCmEuaLBU",
        "colab": {
          "base_uri": "https://localhost:8080/"
        },
        "outputId": "a1fea931-737c-4b5f-d9be-94f4de9c660f"
      },
      "source": [
        "# Example 2 - working\n",
        "torch.log10(torch.tensor([12.*2, 7+6]))"
      ],
      "execution_count": 32,
      "outputs": [
        {
          "output_type": "execute_result",
          "data": {
            "text/plain": [
              "tensor([1.3802, 1.1139])"
            ]
          },
          "metadata": {
            "tags": []
          },
          "execution_count": 32
        }
      ]
    },
    {
      "cell_type": "markdown",
      "metadata": {
        "id": "9xnwp099aLBV"
      },
      "source": [
        "Simple arithmetic opreration with tensor.log10"
      ]
    },
    {
      "cell_type": "code",
      "metadata": {
        "id": "fUrmkpqPaLBV",
        "colab": {
          "base_uri": "https://localhost:8080/",
          "height": 180
        },
        "outputId": "70f418cd-982f-45d2-efb7-be8850dba26f"
      },
      "source": [
        "# Example 3 - breaking (to illustrate when it breaks)\n",
        "torch.log10(torch.tensor([12*2, 7+6]))"
      ],
      "execution_count": 33,
      "outputs": [
        {
          "output_type": "error",
          "ename": "RuntimeError",
          "evalue": "ignored",
          "traceback": [
            "\u001b[0;31m---------------------------------------------------------------------------\u001b[0m",
            "\u001b[0;31mRuntimeError\u001b[0m                              Traceback (most recent call last)",
            "\u001b[0;32m<ipython-input-33-970375350939>\u001b[0m in \u001b[0;36m<module>\u001b[0;34m()\u001b[0m\n\u001b[1;32m      1\u001b[0m \u001b[0;31m# Example 3 - breaking (to illustrate when it breaks)\u001b[0m\u001b[0;34m\u001b[0m\u001b[0;34m\u001b[0m\u001b[0;34m\u001b[0m\u001b[0m\n\u001b[0;32m----> 2\u001b[0;31m \u001b[0mtorch\u001b[0m\u001b[0;34m.\u001b[0m\u001b[0mlog10\u001b[0m\u001b[0;34m(\u001b[0m\u001b[0mtorch\u001b[0m\u001b[0;34m.\u001b[0m\u001b[0mtensor\u001b[0m\u001b[0;34m(\u001b[0m\u001b[0;34m[\u001b[0m\u001b[0;36m12\u001b[0m\u001b[0;34m*\u001b[0m\u001b[0;36m2\u001b[0m\u001b[0;34m,\u001b[0m \u001b[0;36m7\u001b[0m\u001b[0;34m+\u001b[0m\u001b[0;36m6\u001b[0m\u001b[0;34m]\u001b[0m\u001b[0;34m)\u001b[0m\u001b[0;34m)\u001b[0m\u001b[0;34m\u001b[0m\u001b[0;34m\u001b[0m\u001b[0m\n\u001b[0m",
            "\u001b[0;31mRuntimeError\u001b[0m: log10_vml_cpu not implemented for 'Long'"
          ]
        }
      ]
    },
    {
      "cell_type": "markdown",
      "metadata": {
        "id": "VZRykVspaLBW"
      },
      "source": [
        "tensor.log10 cannot be implemented using long values, hence the errror."
      ]
    },
    {
      "cell_type": "markdown",
      "metadata": {
        "id": "snR-6gN-aLBh"
      },
      "source": [
        "The tensor.log10 function is used when you want to print the value of inputs in base 10."
      ]
    },
    {
      "cell_type": "code",
      "metadata": {
        "id": "cgY7APtiaLBi"
      },
      "source": [
        "jovian.commit(project='01-tensor-operations')"
      ],
      "execution_count": null,
      "outputs": []
    },
    {
      "cell_type": "markdown",
      "metadata": {
        "id": "2QRULWqKaLBj"
      },
      "source": [
        "## Conclusion\n",
        "\n",
        "\n",
        "In this notebook , I covered 5 simple Math functions(tensor.log10, tensor.neg, tensor.rsqrt, tensor.max and tensor.full) and described thier functions with examples. There are more complex and vast features available in Pytorch which can be explored later on."
      ]
    },
    {
      "cell_type": "markdown",
      "metadata": {
        "id": "bTTGdARwaLBj"
      },
      "source": [
        "## Reference Links\n",
        "Provide links to your references and other interesting articles about tensors\n",
        "* Official documentation for tensor operations: https://pytorch.org/docs/stable/torch.html\n",
        "* ..."
      ]
    },
    {
      "cell_type": "code",
      "metadata": {
        "id": "ox_Gy8mmaLBk"
      },
      "source": [
        "jovian.commit(project='01-tensor-operations.')"
      ],
      "execution_count": null,
      "outputs": []
    },
    {
      "cell_type": "code",
      "metadata": {
        "id": "QfHqA8ukaLBk"
      },
      "source": [
        ""
      ],
      "execution_count": null,
      "outputs": []
    }
  ]
}